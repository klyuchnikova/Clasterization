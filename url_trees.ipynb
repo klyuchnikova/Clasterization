{
  "nbformat": 4,
  "nbformat_minor": 0,
  "metadata": {
    "colab": {
      "name": "Добро пожаловать в Colaboratory!",
      "provenance": [],
      "collapsed_sections": [],
      "toc_visible": true,
      "include_colab_link": true
    },
    "kernelspec": {
      "display_name": "Python 3",
      "name": "python3"
    }
  },
  "cells": [
    {
      "cell_type": "markdown",
      "metadata": {
        "id": "view-in-github",
        "colab_type": "text"
      },
      "source": [
        "<a href=\"https://colab.research.google.com/github/klyuchnikova/Clasterization/blob/master/url_trees.ipynb\" target=\"_parent\"><img src=\"https://colab.research.google.com/assets/colab-badge.svg\" alt=\"Open In Colab\"/></a>"
      ]
    },
    {
      "cell_type": "code",
      "metadata": {
        "id": "iYy8ORigvqTC"
      },
      "source": [
        "import ssl\n",
        "from bs4 import BeautifulSoup\n",
        "from urllib.request import urlopen, urlparse\n",
        "from urllib.parse import urljoin # urldefrag\n",
        "\n",
        "# so that they don't make us go to jail :D\n",
        "ssl._create_default_https_context = ssl._create_unverified_context"
      ],
      "execution_count": 30,
      "outputs": []
    },
    {
      "cell_type": "code",
      "metadata": {
        "id": "rd_JBhuDwe5N"
      },
      "source": [
        "def unparse(href):\n",
        "  \"\"\" returns a parser (BeautifulSoup) of page by href \"\"\"\n",
        "  try:\n",
        "    html = urlopen(href).read()\n",
        "    return BeautifulSoup(html)\n",
        "  except:\n",
        "    raise Warning(\"couldn't read the href:\", href)"
      ],
      "execution_count": 128,
      "outputs": []
    },
    {
      "cell_type": "code",
      "metadata": {
        "id": "dK4CnQKXPYWd"
      },
      "source": [
        "dic1 ={\"aa\":44}\n",
        "dic2 = {\"aa\": 55, \"b\": 66}\n",
        "dic1.update(dic2)"
      ],
      "execution_count": 184,
      "outputs": []
    },
    {
      "cell_type": "code",
      "metadata": {
        "id": "Iifk2ldKPp5m",
        "outputId": "dfdf2fd0-2690-4bb8-ceef-2789387d30fb",
        "colab": {
          "base_uri": "https://localhost:8080/"
        }
      },
      "source": [
        "dic1"
      ],
      "execution_count": 185,
      "outputs": [
        {
          "output_type": "execute_result",
          "data": {
            "text/plain": [
              "{'aa': 55, 'b': 66}"
            ]
          },
          "metadata": {},
          "execution_count": 185
        }
      ]
    },
    {
      "cell_type": "code",
      "metadata": {
        "id": "4ycnSLg62tW-"
      },
      "source": [
        "def recursive_deep_search(home_href, paths_found = set(), start_level=0, max_level = 10, _home_netloc = None):\n",
        "  \"\"\"on the page by the home_href we search for the links we haven't yet found, \n",
        "  then search same for children and e.t.c creating a tree of hight <=max_level \"\"\"\n",
        "  if start_level == max_level: # if we're max deep\n",
        "    return {start_level : set(home_href)}\n",
        "  \n",
        "  try:\n",
        "    if _home_netloc == None:\n",
        "      # if there'r no netloc we'll use the home one for all further surches\n",
        "      home_parsed = urlparse(home_href)\n",
        "      _home_netloc = home_parsed.netloc\n",
        "      paths_found.add(home_parsed.path)\n",
        "    \n",
        "    parser = unparse(home_href)\n",
        "    curr_level_children = set()\n",
        "  except:\n",
        "    return {}\n",
        "\n",
        "  #print(\"total :\", len(parser.find_all('a')))\n",
        "  for link in parser.find_all('a'):\n",
        "    parsed_link = urlparse(link.get('href'))\n",
        "    if (not parsed_link.netloc or parsed_link.netloc is _home_netloc) and parsed_link.path and (parsed_link.path not in paths_found):\n",
        "      #print(\"...\")\n",
        "      paths_found.add(parsed_link.path)\n",
        "      curr_level_children.add(urljoin(home_href, parsed_link.path)) \n",
        "  \n",
        "  tree_dict = {start_level+1 : curr_level_children}\n",
        "  #print(f\"curr level: {start_level}, childrean found: {len(curr_level_children)}\")\n",
        "  #print(\"paths found:\", len(paths_found))\n",
        "  for href in curr_level_children:\n",
        "    #print(\"href searching:\", href)\n",
        "    try:\n",
        "      add_dict = recursive_deep_search(href, paths_found, start_level+1, _home_netloc = _home_netloc)\n",
        "      for level in range(start_level+2, max_level+1):\n",
        "        tree_dict.setdefault(level, set())\n",
        "        tree_dict[level] |= add_dict.setdefault(level, set())\n",
        "    except:\n",
        "      print(tree_dict)\n",
        "      print(add_dict)\n",
        "      raise ValueError(\"some arror with dicts\")\n",
        "  return tree_dict"
      ],
      "execution_count": 186,
      "outputs": []
    },
    {
      "cell_type": "code",
      "metadata": {
        "id": "pBDuYmAOGrV0",
        "outputId": "00bbbc23-ef34-462e-ae1a-f8a63a7676f7",
        "colab": {
          "base_uri": "https://localhost:8080/"
        }
      },
      "source": [
        "def f(url):\n",
        "  parser = unparse(url)\n",
        "  print(len(parser.find_all('a')))\n",
        "  print(len(parser.find_all('a')))\n",
        "f('https://simple.wikipedia.org/wiki/Main_Page')"
      ],
      "execution_count": 150,
      "outputs": [
        {
          "output_type": "stream",
          "name": "stdout",
          "text": [
            "393\n",
            "393\n"
          ]
        }
      ]
    },
    {
      "cell_type": "code",
      "metadata": {
        "id": "_UbzYgMSACPF"
      },
      "source": [
        "recursive_deep_search(home_href = 'https://simple.wikipedia.org/wiki/Main_Page')"
      ],
      "execution_count": null,
      "outputs": []
    },
    {
      "cell_type": "code",
      "metadata": {
        "id": "g1uaDMwZyg06"
      },
      "source": [
        "home_page = 'https://simple.wikipedia.org/wiki/Main_Page'\n",
        "parser = unparse(home_page)\n",
        "net = urlparse(home_page).netloc"
      ],
      "execution_count": 70,
      "outputs": []
    },
    {
      "cell_type": "code",
      "metadata": {
        "id": "6fpgYkGc7bW2",
        "outputId": "77aa3d86-8136-4dd8-c754-72d8c15f3100",
        "colab": {
          "base_uri": "https://localhost:8080/"
        }
      },
      "source": [
        "start_page = 'https://simple.wikipedia.org/wiki/Main_Page'\n",
        "a = 0\n",
        "for link in parser.find_all('a'):\n",
        "    href = link.get('href')\n",
        "    parsed_href = urlparse(href)\n",
        "    \n",
        "    if (not parsed_href.netloc or parsed_href.netloc==\"simple.wikipedia.org\") and parsed_href.path:\n",
        "        # чистые ссылки\n",
        "        a+=1\n",
        "print(a)"
      ],
      "execution_count": 121,
      "outputs": [
        {
          "output_type": "stream",
          "name": "stdout",
          "text": [
            "185\n"
          ]
        }
      ]
    },
    {
      "cell_type": "code",
      "metadata": {
        "id": "k9LICHo-7C5_",
        "outputId": "8f434fc9-597a-4722-ca06-dbf8efea32c0",
        "colab": {
          "base_uri": "https://localhost:8080/"
        }
      },
      "source": [
        "link = urlparse(\"/wiki/Wikipedia:How_to_write_Simple_English_articles\")\n",
        "print(link.path)\n",
        "print(urljoin(home_page, link.path))\n",
        "print(urljoin(net, link.path))"
      ],
      "execution_count": 42,
      "outputs": [
        {
          "output_type": "stream",
          "name": "stdout",
          "text": [
            "/wiki/Wikipedia:How_to_write_Simple_English_articles\n",
            "https://simple.wikipedia.org/wiki/Wikipedia:How_to_write_Simple_English_articles\n",
            "/wiki/Wikipedia:How_to_write_Simple_English_articles\n"
          ]
        }
      ]
    },
    {
      "cell_type": "code",
      "metadata": {
        "id": "1oDyezhHylKX"
      },
      "source": [
        ""
      ],
      "execution_count": null,
      "outputs": []
    }
  ]
}